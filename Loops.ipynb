{
 "cells": [
  {
   "cell_type": "markdown",
   "id": "782000a7",
   "metadata": {},
   "source": [
    "## Loops"
   ]
  },
  {
   "cell_type": "markdown",
   "id": "27722ff5",
   "metadata": {},
   "source": [
    "### FOR LOOP"
   ]
  },
  {
   "cell_type": "code",
   "execution_count": 2,
   "id": "a99d4240",
   "metadata": {},
   "outputs": [
    {
     "name": "stdout",
     "output_type": "stream",
     "text": [
      "apple\n",
      "applePie\n",
      "mango\n",
      "mangoPie\n",
      "peach\n",
      "peachPie\n"
     ]
    }
   ],
   "source": [
    "fruits=[\"apple\",\"mango\",\"peach\"]\n",
    "for fruit in fruits:\n",
    "    print(fruit)\n",
    "    print(fruit + \"Pie\")"
   ]
  },
  {
   "cell_type": "code",
   "execution_count": 5,
   "id": "4cc8b14a",
   "metadata": {},
   "outputs": [
    {
     "name": "stdout",
     "output_type": "stream",
     "text": [
      "Average Student Height =  164\n"
     ]
    }
   ],
   "source": [
    "## Avg_height\n",
    "\n",
    "heights=[180,124,165,173,189,169,146]\n",
    "total = 0\n",
    "count = 0\n",
    "\n",
    "for height in heights :\n",
    "    total = total + height\n",
    "    count = count + 1\n",
    "    \n",
    "    average = total /count\n",
    "print(\"Average Student Height = \",round(average))    "
   ]
  },
  {
   "cell_type": "code",
   "execution_count": 13,
   "id": "23f3b16e",
   "metadata": {},
   "outputs": [
    {
     "name": "stdout",
     "output_type": "stream",
     "text": [
      "98\n"
     ]
    }
   ],
   "source": [
    "## Highest Score\n",
    "\n",
    "scores = [45,78,92,65,53,50,98]\n",
    "\n",
    "max_score=0\n",
    "for score in scores:\n",
    "    if score > max_score:\n",
    "        max_score = score\n",
    "print(max_score)    "
   ]
  },
  {
   "cell_type": "code",
   "execution_count": 10,
   "id": "1e0ce7cd",
   "metadata": {},
   "outputs": [
    {
     "name": "stdout",
     "output_type": "stream",
     "text": [
      "2\n"
     ]
    }
   ],
   "source": [
    "## Lowest Score\n",
    "\n",
    "l = [45,78,92,65,53,50,98,2]\n",
    "\n",
    "min_score= l[0]\n",
    "for i in range(1,len(l)):\n",
    "    if l[i] < min_score:\n",
    "        min_score = l[i]\n",
    "print(min_score)        "
   ]
  },
  {
   "cell_type": "code",
   "execution_count": 13,
   "id": "0ce30bc4",
   "metadata": {},
   "outputs": [
    {
     "name": "stdout",
     "output_type": "stream",
     "text": [
      "2550\n"
     ]
    }
   ],
   "source": [
    "## Program that include the sum of all even number from 1 to 100 including 1 and 100\n",
    "\n",
    "sum_of_even = 0\n",
    "for num in range(1,101):\n",
    "    if num % 2 == 0:\n",
    "        sum_of_even = sum_of_even + num\n",
    "        \n",
    "print(sum_of_even)        "
   ]
  },
  {
   "cell_type": "code",
   "execution_count": 17,
   "id": "e4c1fbec",
   "metadata": {},
   "outputs": [
    {
     "name": "stdout",
     "output_type": "stream",
     "text": [
      "2550\n"
     ]
    }
   ],
   "source": [
    "total = 0 \n",
    "for i in range(2,101,2):\n",
    "    total += i\n",
    "print(total)    "
   ]
  },
  {
   "cell_type": "code",
   "execution_count": 32,
   "id": "2094d583",
   "metadata": {},
   "outputs": [
    {
     "name": "stdout",
     "output_type": "stream",
     "text": [
      "1\n",
      "2\n",
      "Buzz\n",
      "4\n",
      "Fizz\n",
      "Buzz\n",
      "7\n",
      "8\n",
      "Buzz\n",
      "Fizz\n",
      "11\n",
      "Buzz\n",
      "13\n",
      "14\n",
      "FizzBuzz\n",
      "16\n",
      "17\n",
      "Buzz\n",
      "19\n",
      "Fizz\n",
      "Buzz\n",
      "22\n",
      "23\n",
      "Buzz\n",
      "Fizz\n",
      "26\n",
      "Buzz\n",
      "28\n",
      "29\n",
      "FizzBuzz\n",
      "31\n",
      "32\n",
      "Buzz\n",
      "34\n",
      "Fizz\n",
      "Buzz\n",
      "37\n",
      "38\n",
      "Buzz\n",
      "Fizz\n",
      "41\n",
      "Buzz\n",
      "43\n",
      "44\n",
      "FizzBuzz\n",
      "46\n",
      "47\n",
      "Buzz\n",
      "49\n",
      "Fizz\n",
      "Buzz\n",
      "52\n",
      "53\n",
      "Buzz\n",
      "Fizz\n",
      "56\n",
      "Buzz\n",
      "58\n",
      "59\n",
      "FizzBuzz\n",
      "61\n",
      "62\n",
      "Buzz\n",
      "64\n",
      "Fizz\n",
      "Buzz\n",
      "67\n",
      "68\n",
      "Buzz\n",
      "Fizz\n",
      "71\n",
      "Buzz\n",
      "73\n",
      "74\n",
      "FizzBuzz\n",
      "76\n",
      "77\n",
      "Buzz\n",
      "79\n",
      "Fizz\n",
      "Buzz\n",
      "82\n",
      "83\n",
      "Buzz\n",
      "Fizz\n",
      "86\n",
      "Buzz\n",
      "88\n",
      "89\n",
      "FizzBuzz\n",
      "91\n",
      "92\n",
      "Buzz\n",
      "94\n",
      "Fizz\n",
      "Buzz\n",
      "97\n",
      "98\n",
      "Buzz\n",
      "Fizz\n"
     ]
    }
   ],
   "source": [
    "## FIZZ BUZZZ\n",
    "\n",
    "for num in range(1,101):\n",
    "    if (num % 3 == 0) and (num % 5 == 0):\n",
    "        print(\"FizzBuzz\")\n",
    "    elif num % 3 == 0:\n",
    "        print(\"Buzz\")\n",
    "    elif num % 5 == 0:\n",
    "        print(\"Fizz\")\n",
    "    else:\n",
    "        print(num)\n",
    "        \n",
    "    "
   ]
  },
  {
   "cell_type": "markdown",
   "id": "1a6219e3",
   "metadata": {},
   "source": [
    "### WHILE LOOP"
   ]
  },
  {
   "cell_type": "code",
   "execution_count": 1,
   "id": "2bf7abf2",
   "metadata": {},
   "outputs": [
    {
     "name": "stdout",
     "output_type": "stream",
     "text": [
      "hye aman\n",
      "hye aman\n",
      "hye aman\n",
      "hye aman\n",
      "hye aman\n"
     ]
    }
   ],
   "source": [
    "count = 0\n",
    "while count < 5:\n",
    "    print(\"hye aman\")\n",
    "    count +=1"
   ]
  },
  {
   "cell_type": "code",
   "execution_count": 4,
   "id": "a7c57416",
   "metadata": {},
   "outputs": [
    {
     "name": "stdout",
     "output_type": "stream",
     "text": [
      "hye aman\n",
      "hye aman\n",
      "hye aman\n",
      "hye aman\n",
      "hye aman\n"
     ]
    }
   ],
   "source": [
    "count = 5\n",
    "while count > 0:\n",
    "    print(\"hye aman\")\n",
    "    count -= 1"
   ]
  },
  {
   "cell_type": "code",
   "execution_count": 7,
   "id": "5a6a5860",
   "metadata": {},
   "outputs": [
    {
     "name": "stdout",
     "output_type": "stream",
     "text": [
      "enter the number: 4\n",
      "24\n"
     ]
    }
   ],
   "source": [
    "num = int(input(\"enter the number: \"))\n",
    "fact = 1\n",
    "for i in range(1,num+1):\n",
    "    fact = fact*i\n",
    "print(fact)    "
   ]
  },
  {
   "cell_type": "code",
   "execution_count": 8,
   "id": "775f5836",
   "metadata": {},
   "outputs": [
    {
     "name": "stdout",
     "output_type": "stream",
     "text": [
      "4\n",
      "3\n",
      "2\n",
      "1\n"
     ]
    }
   ],
   "source": [
    "n=4\n",
    "while n>=1:\n",
    "    print(n)\n",
    "    n -= 1"
   ]
  },
  {
   "cell_type": "code",
   "execution_count": null,
   "id": "82f2c1fc",
   "metadata": {},
   "outputs": [],
   "source": []
  }
 ],
 "metadata": {
  "kernelspec": {
   "display_name": "Python 3 (ipykernel)",
   "language": "python",
   "name": "python3"
  },
  "language_info": {
   "codemirror_mode": {
    "name": "ipython",
    "version": 3
   },
   "file_extension": ".py",
   "mimetype": "text/x-python",
   "name": "python",
   "nbconvert_exporter": "python",
   "pygments_lexer": "ipython3",
   "version": "3.9.7"
  }
 },
 "nbformat": 4,
 "nbformat_minor": 5
}
